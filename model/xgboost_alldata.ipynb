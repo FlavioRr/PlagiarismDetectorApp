{
 "cells": [
  {
   "cell_type": "code",
   "execution_count": 1,
   "metadata": {},
   "outputs": [],
   "source": [
    "import joblib\n",
    "import javalang\n",
    "import numpy as np\n",
    "import pandas as pd\n",
    "import xgboost as xgb\n",
    "from sklearn.model_selection import train_test_split\n",
    "from sklearn.metrics import accuracy_score, confusion_matrix, log_loss, precision_score, recall_score, f1_score\n",
    "from sklearn.feature_extraction.text import TfidfVectorizer\n",
    "import matplotlib.pyplot as plt\n",
    "import seaborn as sns\n",
    "import os\n",
    "import pandas as pd\n",
    "import javalang\n",
    "from sklearn.feature_extraction.text import TfidfVectorizer\n",
    "import joblib\n",
    "import numpy as np\n",
    "from imblearn.over_sampling import SMOTE\n",
    "from collections import Counter\n"
   ]
  },
  {
   "cell_type": "code",
   "execution_count": 2,
   "metadata": {},
   "outputs": [
    {
     "name": "stdout",
     "output_type": "stream",
     "text": [
      "Available columns in labels.csv: Index(['sub1', 'sub2', 'veredict'], dtype='object')\n",
      "Error parsing Java code: \n",
      "Original class distribution: Counter({0: 660, 1: 250})\n",
      "Resampled class distribution: Counter({0: 660, 1: 660})\n",
      "Preprocessing completed and data saved.\n"
     ]
    }
   ],
   "source": [
    "\n",
    "# Function to read a Java file and return its content as a string\n",
    "def read_java_file(file_path):\n",
    "    with open(file_path, 'r', encoding='utf-8') as file:\n",
    "        content = file.read()\n",
    "    return content\n",
    "\n",
    "# Function to extract AST nodes from Java code\n",
    "def extract_ast_nodes(code):\n",
    "    try:\n",
    "        tokens = list(javalang.tokenizer.tokenize(code))\n",
    "        parser = javalang.parser.Parser(tokens)\n",
    "        tree = parser.parse()\n",
    "\n",
    "        ast_nodes = []\n",
    "        for path, node in tree:\n",
    "            if isinstance(node, javalang.tree.Node):\n",
    "                ast_nodes.append(node.__class__.__name__)\n",
    "        return ' '.join(ast_nodes)\n",
    "    except (javalang.parser.JavaSyntaxError, javalang.tokenizer.LexerError) as e:\n",
    "        print(f\"Error parsing Java code: {e}\")\n",
    "        return ''\n",
    "\n",
    "# Function to calculate Jaccard similarity between two sets\n",
    "def jaccard_similarity(set1, set2):\n",
    "    intersection = len(set1.intersection(set2))\n",
    "    union = len(set1.union(set2))\n",
    "    return intersection / union if union != 0 else 0\n",
    "\n",
    "# Function to calculate Manhattan distance between two vectors\n",
    "def manhattan_distance(v1, v2):\n",
    "    return np.sum(np.abs(v1 - v2))\n",
    "\n",
    "# Function to preprocess all Java files in the specified directory and return a DataFrame\n",
    "def preprocess_data_with_ast(java_files_dir, labels_file):\n",
    "    data = []\n",
    "    labels = pd.read_csv(labels_file)\n",
    "    \n",
    "    print(\"Available columns in labels.csv:\", labels.columns)\n",
    "    \n",
    "    label_column = 'veredict'  # Ensure the correct column is present\n",
    "    if label_column not in labels.columns:\n",
    "        raise KeyError(f\"The column '{label_column}' is not found in labels.csv\")\n",
    "    \n",
    "    for index, row in labels.iterrows():\n",
    "        sub1 = row['sub1']\n",
    "        sub2 = row['sub2']\n",
    "        label = row[label_column]  # Use the correct label column\n",
    "        \n",
    "        # Paths to the two Java files\n",
    "        file1_path = os.path.join(java_files_dir, f\"{sub1}.java\")\n",
    "        file2_path = os.path.join(java_files_dir, f\"{sub2}.java\")\n",
    "        \n",
    "        if os.path.exists(file1_path) and os.path.exists(file2_path):\n",
    "            code1 = read_java_file(file1_path)\n",
    "            code2 = read_java_file(file2_path)\n",
    "            ast_nodes1 = extract_ast_nodes(code1)\n",
    "            ast_nodes2 = extract_ast_nodes(code2)\n",
    "            \n",
    "            if ast_nodes1 and ast_nodes2:  # Only combine if both are not empty\n",
    "                combined_ast_nodes = ast_nodes1 + ' ' + ast_nodes2\n",
    "                data.append([combined_ast_nodes, label, ast_nodes1, ast_nodes2])\n",
    "    \n",
    "    return pd.DataFrame(data, columns=['code', 'label', 'ast_nodes1', 'ast_nodes2'])\n",
    "\n",
    "# Function to save preprocessed data with additional features to a file\n",
    "def save_preprocessed_data(data, output_path):\n",
    "    tfidf_vectorizer = TfidfVectorizer(max_features=5000)  # Adjust max_features as necessary\n",
    "    X = tfidf_vectorizer.fit_transform(data['code'])\n",
    "    y = data['label']\n",
    "    \n",
    "    # Calculate additional features\n",
    "    manhattan_distances = []\n",
    "    jaccard_similarities = []\n",
    "\n",
    "    for _, row in data.iterrows():\n",
    "        ast_set1 = set(row['ast_nodes1'].split())\n",
    "        ast_set2 = set(row['ast_nodes2'].split())\n",
    "        jaccard_similarities.append(jaccard_similarity(ast_set1, ast_set2))\n",
    "        \n",
    "        vec1 = tfidf_vectorizer.transform([row['ast_nodes1']]).toarray()[0]\n",
    "        vec2 = tfidf_vectorizer.transform([row['ast_nodes2']]).toarray()[0]\n",
    "        manhattan_distances.append(manhattan_distance(vec1, vec2))\n",
    "    \n",
    "    # Combine features\n",
    "    X_additional = np.array([manhattan_distances, jaccard_similarities]).T\n",
    "    X_combined = np.hstack((X.toarray(), X_additional))\n",
    "    \n",
    "    # Apply SMOTE to handle class imbalance\n",
    "    print(f\"Original class distribution: {Counter(y)}\")\n",
    "    smote = SMOTE(random_state=42)\n",
    "    X_resampled, y_resampled = smote.fit_resample(X_combined, y)\n",
    "    print(f\"Resampled class distribution: {Counter(y_resampled)}\")\n",
    "    \n",
    "    joblib.dump((X_resampled, y_resampled, tfidf_vectorizer), output_path)\n",
    "\n",
    "if __name__ == \"__main__\":\n",
    "    java_files_directory = r'C:\\Users\\Flavio Ruvalcaba\\Documents\\Escuela\\Universidad\\8Semestre\\PlagiarismDetector\\finalDataset\\javafiles'\n",
    "    labels_file_path = r'C:\\Users\\Flavio Ruvalcaba\\Documents\\Escuela\\Universidad\\8Semestre\\PlagiarismDetector\\finalDataset\\unify_labels\\javafiles_labels.csv'\n",
    "    processed_data = preprocess_data_with_ast(java_files_directory, labels_file_path)\n",
    "    save_preprocessed_data(processed_data, r'C:\\Users\\Flavio Ruvalcaba\\Documents\\Escuela\\Universidad\\8Semestre\\PlagiarismDetectorApp\\preprocessing\\preprocessed_all_data.pkl')\n",
    "    print(\"Preprocessing completed and data saved.\")\n"
   ]
  },
  {
   "cell_type": "code",
   "execution_count": 3,
   "metadata": {},
   "outputs": [],
   "source": [
    "# Load the preprocessed data\n",
    "data_path = r'C:\\Users\\Flavio Ruvalcaba\\Documents\\Escuela\\Universidad\\8Semestre\\PlagiarismDetectorApp\\preprocessing\\preprocessed_all_data.pkl'\n",
    "X, y, tfidf_vectorizer = joblib.load(data_path)\n",
    "\n",
    "# Split the data into training and test sets\n",
    "X_train, X_test, y_train, y_test = train_test_split(X, y, test_size=0.2, random_state=42)"
   ]
  },
  {
   "cell_type": "code",
   "execution_count": 4,
   "metadata": {},
   "outputs": [
    {
     "data": {
      "text/html": [
       "<style>#sk-container-id-1 {color: black;background-color: white;}#sk-container-id-1 pre{padding: 0;}#sk-container-id-1 div.sk-toggleable {background-color: white;}#sk-container-id-1 label.sk-toggleable__label {cursor: pointer;display: block;width: 100%;margin-bottom: 0;padding: 0.3em;box-sizing: border-box;text-align: center;}#sk-container-id-1 label.sk-toggleable__label-arrow:before {content: \"▸\";float: left;margin-right: 0.25em;color: #696969;}#sk-container-id-1 label.sk-toggleable__label-arrow:hover:before {color: black;}#sk-container-id-1 div.sk-estimator:hover label.sk-toggleable__label-arrow:before {color: black;}#sk-container-id-1 div.sk-toggleable__content {max-height: 0;max-width: 0;overflow: hidden;text-align: left;background-color: #f0f8ff;}#sk-container-id-1 div.sk-toggleable__content pre {margin: 0.2em;color: black;border-radius: 0.25em;background-color: #f0f8ff;}#sk-container-id-1 input.sk-toggleable__control:checked~div.sk-toggleable__content {max-height: 200px;max-width: 100%;overflow: auto;}#sk-container-id-1 input.sk-toggleable__control:checked~label.sk-toggleable__label-arrow:before {content: \"▾\";}#sk-container-id-1 div.sk-estimator input.sk-toggleable__control:checked~label.sk-toggleable__label {background-color: #d4ebff;}#sk-container-id-1 div.sk-label input.sk-toggleable__control:checked~label.sk-toggleable__label {background-color: #d4ebff;}#sk-container-id-1 input.sk-hidden--visually {border: 0;clip: rect(1px 1px 1px 1px);clip: rect(1px, 1px, 1px, 1px);height: 1px;margin: -1px;overflow: hidden;padding: 0;position: absolute;width: 1px;}#sk-container-id-1 div.sk-estimator {font-family: monospace;background-color: #f0f8ff;border: 1px dotted black;border-radius: 0.25em;box-sizing: border-box;margin-bottom: 0.5em;}#sk-container-id-1 div.sk-estimator:hover {background-color: #d4ebff;}#sk-container-id-1 div.sk-parallel-item::after {content: \"\";width: 100%;border-bottom: 1px solid gray;flex-grow: 1;}#sk-container-id-1 div.sk-label:hover label.sk-toggleable__label {background-color: #d4ebff;}#sk-container-id-1 div.sk-serial::before {content: \"\";position: absolute;border-left: 1px solid gray;box-sizing: border-box;top: 0;bottom: 0;left: 50%;z-index: 0;}#sk-container-id-1 div.sk-serial {display: flex;flex-direction: column;align-items: center;background-color: white;padding-right: 0.2em;padding-left: 0.2em;position: relative;}#sk-container-id-1 div.sk-item {position: relative;z-index: 1;}#sk-container-id-1 div.sk-parallel {display: flex;align-items: stretch;justify-content: center;background-color: white;position: relative;}#sk-container-id-1 div.sk-item::before, #sk-container-id-1 div.sk-parallel-item::before {content: \"\";position: absolute;border-left: 1px solid gray;box-sizing: border-box;top: 0;bottom: 0;left: 50%;z-index: -1;}#sk-container-id-1 div.sk-parallel-item {display: flex;flex-direction: column;z-index: 1;position: relative;background-color: white;}#sk-container-id-1 div.sk-parallel-item:first-child::after {align-self: flex-end;width: 50%;}#sk-container-id-1 div.sk-parallel-item:last-child::after {align-self: flex-start;width: 50%;}#sk-container-id-1 div.sk-parallel-item:only-child::after {width: 0;}#sk-container-id-1 div.sk-dashed-wrapped {border: 1px dashed gray;margin: 0 0.4em 0.5em 0.4em;box-sizing: border-box;padding-bottom: 0.4em;background-color: white;}#sk-container-id-1 div.sk-label label {font-family: monospace;font-weight: bold;display: inline-block;line-height: 1.2em;}#sk-container-id-1 div.sk-label-container {text-align: center;}#sk-container-id-1 div.sk-container {/* jupyter's `normalize.less` sets `[hidden] { display: none; }` but bootstrap.min.css set `[hidden] { display: none !important; }` so we also need the `!important` here to be able to override the default hidden behavior on the sphinx rendered scikit-learn.org. See: https://github.com/scikit-learn/scikit-learn/issues/21755 */display: inline-block !important;position: relative;}#sk-container-id-1 div.sk-text-repr-fallback {display: none;}</style><div id=\"sk-container-id-1\" class=\"sk-top-container\"><div class=\"sk-text-repr-fallback\"><pre>XGBClassifier(base_score=None, booster=None, callbacks=None,\n",
       "              colsample_bylevel=None, colsample_bynode=None,\n",
       "              colsample_bytree=None, device=None, early_stopping_rounds=None,\n",
       "              enable_categorical=False, eval_metric=&#x27;logloss&#x27;,\n",
       "              feature_types=None, gamma=None, grow_policy=None,\n",
       "              importance_type=None, interaction_constraints=None,\n",
       "              learning_rate=None, max_bin=None, max_cat_threshold=None,\n",
       "              max_cat_to_onehot=None, max_delta_step=None, max_depth=None,\n",
       "              max_leaves=None, min_child_weight=None, missing=nan,\n",
       "              monotone_constraints=None, multi_strategy=None, n_estimators=None,\n",
       "              n_jobs=None, num_parallel_tree=None, random_state=None, ...)</pre><b>In a Jupyter environment, please rerun this cell to show the HTML representation or trust the notebook. <br />On GitHub, the HTML representation is unable to render, please try loading this page with nbviewer.org.</b></div><div class=\"sk-container\" hidden><div class=\"sk-item\"><div class=\"sk-estimator sk-toggleable\"><input class=\"sk-toggleable__control sk-hidden--visually\" id=\"sk-estimator-id-1\" type=\"checkbox\" checked><label for=\"sk-estimator-id-1\" class=\"sk-toggleable__label sk-toggleable__label-arrow\">XGBClassifier</label><div class=\"sk-toggleable__content\"><pre>XGBClassifier(base_score=None, booster=None, callbacks=None,\n",
       "              colsample_bylevel=None, colsample_bynode=None,\n",
       "              colsample_bytree=None, device=None, early_stopping_rounds=None,\n",
       "              enable_categorical=False, eval_metric=&#x27;logloss&#x27;,\n",
       "              feature_types=None, gamma=None, grow_policy=None,\n",
       "              importance_type=None, interaction_constraints=None,\n",
       "              learning_rate=None, max_bin=None, max_cat_threshold=None,\n",
       "              max_cat_to_onehot=None, max_delta_step=None, max_depth=None,\n",
       "              max_leaves=None, min_child_weight=None, missing=nan,\n",
       "              monotone_constraints=None, multi_strategy=None, n_estimators=None,\n",
       "              n_jobs=None, num_parallel_tree=None, random_state=None, ...)</pre></div></div></div></div></div>"
      ],
      "text/plain": [
       "XGBClassifier(base_score=None, booster=None, callbacks=None,\n",
       "              colsample_bylevel=None, colsample_bynode=None,\n",
       "              colsample_bytree=None, device=None, early_stopping_rounds=None,\n",
       "              enable_categorical=False, eval_metric='logloss',\n",
       "              feature_types=None, gamma=None, grow_policy=None,\n",
       "              importance_type=None, interaction_constraints=None,\n",
       "              learning_rate=None, max_bin=None, max_cat_threshold=None,\n",
       "              max_cat_to_onehot=None, max_delta_step=None, max_depth=None,\n",
       "              max_leaves=None, min_child_weight=None, missing=nan,\n",
       "              monotone_constraints=None, multi_strategy=None, n_estimators=None,\n",
       "              n_jobs=None, num_parallel_tree=None, random_state=None, ...)"
      ]
     },
     "execution_count": 4,
     "metadata": {},
     "output_type": "execute_result"
    }
   ],
   "source": [
    "# Train the XGBoost model\n",
    "model = xgb.XGBClassifier(use_label_encoder=False, eval_metric='logloss')\n",
    "model.fit(X_train, y_train)"
   ]
  },
  {
   "cell_type": "code",
   "execution_count": 5,
   "metadata": {},
   "outputs": [],
   "source": [
    "# Predict on training data\n",
    "y_train_pred = model.predict(X_train)\n",
    "train_acc = accuracy_score(y_train, y_train_pred)\n",
    "train_loss = log_loss(y_train, model.predict_proba(X_train))"
   ]
  },
  {
   "cell_type": "code",
   "execution_count": 6,
   "metadata": {},
   "outputs": [],
   "source": [
    "# Predict on test data\n",
    "y_test_pred = model.predict(X_test)\n",
    "test_acc = accuracy_score(y_test, y_test_pred)\n",
    "test_loss = log_loss(y_test, model.predict_proba(X_test))"
   ]
  },
  {
   "cell_type": "code",
   "execution_count": 7,
   "metadata": {},
   "outputs": [],
   "source": [
    "# Compute confusion matrix\n",
    "conf_matrix = confusion_matrix(y_test, y_test_pred)"
   ]
  },
  {
   "cell_type": "code",
   "execution_count": 8,
   "metadata": {},
   "outputs": [
    {
     "name": "stdout",
     "output_type": "stream",
     "text": [
      "Train Accuracy: 1.0\n",
      "Train Loss: 0.006374523382789049\n",
      "Test Accuracy: 0.9166666666666666\n",
      "Test Loss: 0.29742697198580426\n",
      "\n",
      "Confusion Matrix:\n"
     ]
    },
    {
     "data": {
      "image/png": "[encoded data removed]",
      "text/plain": [
       "<Figure size 1000x700 with 2 Axes>"
      ]
     },
     "metadata": {},
     "output_type": "display_data"
    },
    {
     "name": "stdout",
     "output_type": "stream",
     "text": [
      "Precision: 0.9365079365079365\n",
      "Recall: 0.8939393939393939\n",
      "F1 Score: 0.9147286821705426\n"
     ]
    }
   ],
   "source": [
    "# Print metrics\n",
    "print(f\"Train Accuracy: {train_acc}\")\n",
    "print(f\"Train Loss: {train_loss}\")\n",
    "print(f\"Test Accuracy: {test_acc}\")\n",
    "print(f\"Test Loss: {test_loss}\")\n",
    "print('')\n",
    "print(\"Confusion Matrix:\")\n",
    "\n",
    "# Plot confusion matrix\n",
    "plt.figure(figsize=(10, 7))\n",
    "sns.heatmap(conf_matrix, annot=True, fmt='d', cmap='Blues')\n",
    "plt.xlabel('Predicted')\n",
    "plt.ylabel('Actual')\n",
    "plt.title('Confusion Matrix')\n",
    "plt.show()\n",
    "\n",
    "# Calculate additional metrics\n",
    "precision = precision_score(y_test, y_test_pred)\n",
    "recall = recall_score(y_test, y_test_pred)\n",
    "f1 = f1_score(y_test, y_test_pred)\n",
    "\n",
    "# Print metrics\n",
    "print(f\"Precision: {precision}\")\n",
    "print(f\"Recall: {recall}\")\n",
    "print(f\"F1 Score: {f1}\")"
   ]
  },
  {
   "cell_type": "code",
   "execution_count": 9,
   "metadata": {},
   "outputs": [
    {
     "data": {
      "text/plain": [
       "['C:\\\\Users\\\\Flavio Ruvalcaba\\\\Documents\\\\Escuela\\\\Universidad\\\\8Semestre\\\\PlagiarismDetectorApp\\\\model\\\\xgboost_model.pkl']"
      ]
     },
     "execution_count": 9,
     "metadata": {},
     "output_type": "execute_result"
    }
   ],
   "source": [
    "# Save the trained model\n",
    "model_path = r'C:\\Users\\Flavio Ruvalcaba\\Documents\\Escuela\\Universidad\\8Semestre\\PlagiarismDetectorApp\\model\\xgboost_model.pkl'\n",
    "joblib.dump(model, model_path)"
   ]
  },
  {
   "cell_type": "code",
   "execution_count": 10,
   "metadata": {},
   "outputs": [],
   "source": [
    "# Function to test the model using external files\n",
    "def test_model_on_external_files(file1_path, file2_path, model_path, tfidf_vectorizer):\n",
    "    model = joblib.load(model_path)\n",
    "    \n",
    "    def read_java_file(file_path):\n",
    "        with open(file_path, 'r', encoding='utf-8') as file:\n",
    "            content = file.read()\n",
    "        return content\n",
    "\n",
    "    def extract_ast_nodes(code):\n",
    "        try:\n",
    "            tokens = list(javalang.tokenizer.tokenize(code))\n",
    "            parser = javalang.parser.Parser(tokens)\n",
    "            tree = parser.parse()\n",
    "\n",
    "            ast_nodes = []\n",
    "            for path, node in tree:\n",
    "                if isinstance(node, javalang.tree.Node):\n",
    "                    ast_nodes.append(node.__class__.__name__)\n",
    "            return ' '.join(ast_nodes)\n",
    "        except (javalang.parser.JavaSyntaxError, javalang.tokenizer.LexerError) as e:\n",
    "            print(f\"Error parsing Java code: {e}\")\n",
    "            return ''\n",
    "\n",
    "    code1 = read_java_file(file1_path)\n",
    "    code2 = read_java_file(file2_path)\n",
    "    ast_nodes1 = extract_ast_nodes(code1)\n",
    "    ast_nodes2 = extract_ast_nodes(code2)\n",
    "\n",
    "    if ast_nodes1 and ast_nodes2:\n",
    "        combined_ast_nodes = ast_nodes1 + ' ' + ast_nodes2\n",
    "        combined_features = tfidf_vectorizer.transform([combined_ast_nodes])\n",
    "        \n",
    "        ast_set1 = set(ast_nodes1.split())\n",
    "        ast_set2 = set(ast_nodes2.split())\n",
    "\n",
    "        # Calculate additional features\n",
    "        jaccard_similarity = len(ast_set1.intersection(ast_set2)) / len(ast_set1.union(ast_set2)) if len(ast_set1.union(ast_set2)) != 0 else 0\n",
    "        vec1 = tfidf_vectorizer.transform([ast_nodes1]).toarray()[0]\n",
    "        vec2 = tfidf_vectorizer.transform([ast_nodes2]).toarray()[0]\n",
    "        manhattan_distance = np.sum(np.abs(vec1 - vec2))\n",
    "\n",
    "        # Combine all features\n",
    "        additional_features = np.array([[manhattan_distance, jaccard_similarity]])\n",
    "        combined_features = np.hstack((combined_features.toarray(), additional_features))\n",
    "\n",
    "        # Predict using the model\n",
    "        prediction = model.predict(combined_features)\n",
    "        return prediction[0]\n",
    "    else:\n",
    "        print(\"Error: AST extraction failed for one or both files.\")\n",
    "        return None"
   ]
  },
  {
   "cell_type": "code",
   "execution_count": 11,
   "metadata": {},
   "outputs": [
    {
     "name": "stdout",
     "output_type": "stream",
     "text": [
      "Prediction for the external files: 0\n"
     ]
    }
   ],
   "source": [
    "# Example usage of the test function\n",
    "file1 = r'C:\\Users\\Flavio Ruvalcaba\\Documents\\Escuela\\Universidad\\8Semestre\\PlagiarismDetector\\Modeling\\TestFiles\\case-04\\original\\T4.java'\n",
    "file2 = r'C:\\Users\\Flavio Ruvalcaba\\Documents\\Escuela\\Universidad\\8Semestre\\PlagiarismDetector\\Modeling\\TestFiles\\case-04\\non-plagiarized\\01\\T04.java'\n",
    "result = test_model_on_external_files(file1, file2, model_path, tfidf_vectorizer)\n",
    "print(f\"Prediction for the external files: {result}\")"
   ]
  }
 ],
 "metadata": {
  "kernelspec": {
   "display_name": "plagiarismDetector",
   "language": "python",
   "name": "python3"
  },
  "language_info": {
   "codemirror_mode": {
    "name": "ipython",
    "version": 3
   },
   "file_extension": ".py",
   "mimetype": "text/x-python",
   "name": "python",
   "nbconvert_exporter": "python",
   "pygments_lexer": "ipython3",
   "version": "3.11.9"
  }
 },
 "nbformat": 4,
 "nbformat_minor": 2
}
